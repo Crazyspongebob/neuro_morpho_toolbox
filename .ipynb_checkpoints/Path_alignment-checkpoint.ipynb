{
 "cells": [
  {
   "cell_type": "code",
   "execution_count": 1,
   "metadata": {},
   "outputs": [],
   "source": [
    "import numpy as np\n",
    "import pandas as pd\n",
    "from os import listdir\n",
    "from os.path import isfile, join\n",
    "\n",
    "import matplotlib as mpl\n",
    "import matplotlib.pyplot as plt\n",
    "import seaborn as sns\n",
    "\n",
    "import neuro_morpho_toolbox as nmt\n",
    "\n",
    "%matplotlib inline"
   ]
  },
  {
   "cell_type": "code",
   "execution_count": 2,
   "metadata": {},
   "outputs": [],
   "source": [
    "space = nmt.annotation.space\n",
    "\n",
    "swc_path = \"/Users/pengxie/Documents/Research/CLA/data/CCF/mapped/swc/Whole/prune/\""
   ]
  },
  {
   "cell_type": "code",
   "execution_count": 3,
   "metadata": {},
   "outputs": [],
   "source": [
    "# LUT of selected regions\n",
    "LUT = {0:0}\n",
    "\n",
    "for i in nmt.bs.level.index.tolist():\n",
    "    LUT[i] = 0\n",
    "for target_region in nmt.bs.selected_regions:\n",
    "    for i in nmt.bs.get_all_child_id(target_region):\n",
    "        LUT[i] = target_region\n",
    "    \n",
    "\n",
    "def node_to_region(x,y,z,space=space):\n",
    "    x = np.int(x/space['x'])\n",
    "    y = np.int(y/space['x'])\n",
    "    z = np.int(z/space['x'])\n",
    "    return nmt.annotation.array[x,y,z]\n",
    "\n",
    "def get_children(swc):\n",
    "    parents = swc.parent.tolist()\n",
    "    names = swc.index.tolist()\n",
    "    \n",
    "    children = [[] for i in range(len(swc))]\n",
    "    for i,j in enumerate(parents):\n",
    "        if j == (-1):\n",
    "            continue\n",
    "        children[names.index(j)].append(i)\n",
    "    return children\n",
    "        \n",
    "    \n",
    "def get_node_regions(swc):\n",
    "    \n",
    "    parents = swc.parent.tolist()\n",
    "    assert parents.count(-1) == 1, \"Number of roots != 1\"\n",
    "    root = parents.index(-1)\n",
    "    names = swc.index.tolist()    \n",
    "    children = get_children(swc)\n",
    "    \n",
    "    # DFS\n",
    "    # Initialization\n",
    "    stack = [root]\n",
    "    visited = [0]*len(swc)\n",
    "    visited[0] = 1\n",
    "    res = {}\n",
    "    \n",
    "    \n",
    "    # Begin DFS\n",
    "    while len(stack)>0:\n",
    "        cur_node = stack[-1]\n",
    "        whether_push = 0\n",
    "        for i in children[cur_node]:  \n",
    "            if visited[i] == 0:\n",
    "                visited[i] = 1\n",
    "                stack.append(i)\n",
    "                whether_push = 1\n",
    "                break\n",
    "        if whether_push == 0:\n",
    "            tp = stack.pop()\n",
    "            x,y,z = swc.iloc[tp, 1:4].tolist()\n",
    "            if LUT[node_to_region(x,y,z)] != 0:\n",
    "                res[tp] = nmt.bs.level.loc[LUT[node_to_region(x,y,z)], \"Abbrevation\"]\n",
    "            else:\n",
    "                res[tp] = \"unknown\"\n",
    "#                 print(tp, nmt.bs.level.loc[LUT[node_to_region(x,y,z)], \"Abbrevation\"])  \n",
    "    return res\n"
   ]
  },
  {
   "cell_type": "code",
   "execution_count": 4,
   "metadata": {},
   "outputs": [],
   "source": [
    "# Alignment of non-branching neurites\n",
    "\n",
    "# 1. Trace-back from tips\n",
    "def get_tips(swc):\n",
    "    children = get_children(swc)\n",
    "    tips = []\n",
    "    for i,cur_children in enumerate(children):\n",
    "        if len(cur_children)==0:\n",
    "            tips.append(i)\n",
    "    return tips\n",
    "\n",
    "def get_path(swc, end_node, region_dict=None, downsample=1):\n",
    "    # Get a projection path by back-tracing: from specified end_node to soma\n",
    "    assert end_node in range(len(swc)), \"end_node out of bound\"\n",
    "    parents = swc.parent.tolist()\n",
    "    assert parents.count(-1) == 1, \"Number of roots != 1\"\n",
    "    root = parents.index(-1)\n",
    "    names = swc.index.tolist()    \n",
    "    if region_dict is None:\n",
    "        region_dict = get_node_regions(swc)\n",
    "\n",
    "    path = []\n",
    "    cur_node = end_node\n",
    "    ct = 0\n",
    "    while cur_node != root:\n",
    "        if (ct % downsample)==0:\n",
    "            path.insert(0, region_dict[cur_node])\n",
    "        ct = ct + 1\n",
    "        cur_node = names.index(parents[cur_node])\n",
    "    path.insert(0, region_dict[root])\n",
    "    return path "
   ]
  },
  {
   "cell_type": "code",
   "execution_count": 5,
   "metadata": {},
   "outputs": [],
   "source": [
    "match_score = 2\n",
    "mismatch_penalty = -1\n",
    "gap_penalty = -1\n",
    "\n",
    "def path_alignment(p1, p2):\n",
    "    # 1. Construct tables for score and shifts\n",
    "    mscore = np.zeros((len(p1)+1, len(p2)+1))\n",
    "    shift_left = np.zeros((len(p1)+1, len(p2)+1), dtype='int16')\n",
    "    shift_up = np.zeros((len(p1)+1, len(p2)+1), dtype='int16')\n",
    "    shift_type = np.zeros((len(p1)+1, len(p2)+1), dtype='int16') - 1\n",
    "    \n",
    "    # 2. Fill the tables\n",
    "    # 2.1 initialization:\n",
    "    for i in range(1, mscore.shape[0]):\n",
    "        mscore[i, 0] = -i\n",
    "        shift_up[i, 0] = 1\n",
    "        shift_type[i, 0] = 2\n",
    "    for j in range(1, mscore.shape[1]):\n",
    "        mscore[0, j] = -j\n",
    "        shift_left[0, j] = 1\n",
    "        shift_type[0, j] = 0\n",
    "    # 2.2 Fill the rest of the tables\n",
    "    for i in range(1, mscore.shape[0]):\n",
    "        for j in range(1, mscore.shape[1]):\n",
    "            s0 = mscore[i, j-1] + gap_penalty\n",
    "            if p1[i-1] != p2[j-1]:\n",
    "                s1 = mscore[i-1,j-1] + mismatch_penalty\n",
    "            else:\n",
    "                s1 = mscore[i-1,j-1] + match_score\n",
    "            s2 = mscore[i-1, j] + gap_penalty\n",
    "            mscore[i,j] = max([s0,s1,s2])\n",
    "            cur_type = np.argmax([s0,s1,s2])\n",
    "            shift_type[i, j] = cur_type\n",
    "            if cur_type == 0:\n",
    "                shift_left[i,j] = 1\n",
    "                shift_up[i,j] = 0\n",
    "                continue\n",
    "            if cur_type == 1:\n",
    "                shift_left[i,j] = 1\n",
    "                shift_up[i,j] = 1\n",
    "                continue\n",
    "            if cur_type == 2:\n",
    "                shift_left[i,j] = 0\n",
    "                shift_up[i,j] = 1\n",
    "                continue\n",
    "                \n",
    "    # 3. Traceback\n",
    "    seq_1 = []\n",
    "    seq_2 = []\n",
    "    i = mscore.shape[0]-1\n",
    "    j = mscore.shape[1]-1\n",
    "    while ((i!=0) | (j!=0)):\n",
    "        if shift_up[i,j] == 1:\n",
    "            seq_1.insert(0, p1[i-1])\n",
    "        else:\n",
    "            seq_1.insert(0, '-')\n",
    "        if shift_left[i,j] == 1:\n",
    "            seq_2.insert(0, p2[j-1])\n",
    "        else:\n",
    "            seq_2.insert(0, '-')            \n",
    "        i,j = [i - shift_up[i,j], j - shift_left[i,j]]\n",
    "    \n",
    "    return mscore, seq_1, seq_2\n"
   ]
  },
  {
   "cell_type": "code",
   "execution_count": 6,
   "metadata": {},
   "outputs": [
    {
     "name": "stdout",
     "output_type": "stream",
     "text": [
      "# branches: 1\n",
      "path length: 22\n",
      "# branches: 3\n",
      "path length: 17\n",
      "path length: 18\n",
      "path length: 23\n",
      "Global alignment score: 6\n",
      "\n",
      "Path_1\t-\tPath_2\n",
      "ORBl\t-\tORBl\n",
      "ORBl\t-\tORBl\n",
      "AId\t \tORBl\n",
      "AId\t \tORBl\n",
      "AId\t \tORBl\n",
      "AId\t \tCP\n",
      "fiber\t \tCP\n",
      "fiber\t-\tfiber\n",
      "ACAv\t-\tACAv\n",
      "unkno\t \t-\n",
      "ACAv\t-\tACAv\n",
      "fiber\t \tPL\n",
      "fiber\t-\tfiber\n",
      "ORBl\t \tMOs\n",
      "ORBl\t \tMOs\n",
      "ORBl\t-\tORBl\n",
      "ORBl\t \tMOs\n",
      "ORBl\t-\tORBl\n",
      "ORBl\t-\tORBl\n",
      "ORBl\t-\tORBl\n",
      "ORBl\t \tFRP\n",
      "ORBl\t \tMOs\n",
      "-\t \tMOs\n",
      "-\t \tunkno\n"
     ]
    },
    {
     "data": {
      "text/plain": [
       "<matplotlib.axes._subplots.AxesSubplot at 0x1b3e27bc50>"
      ]
     },
     "execution_count": 6,
     "metadata": {},
     "output_type": "execute_result"
    },
    {
     "data": {
      "image/png": "[encoded data removed]",
      "text/plain": [
       "<matplotlib.figure.Figure at 0x1b3e277f98>"
      ]
     },
     "metadata": {},
     "output_type": "display_data"
    }
   ],
   "source": [
    "\n",
    "\n",
    "# Testing data\n",
    "# 'res' is a dict line_number -> region\n",
    "\n",
    "name_1 = \"17109_01701_01800_X8048_Y22277_QCed.swc\"\n",
    "name_2 = \"17109_1801_1900_X6698_Y12550_QCed.swc\"\n",
    "\n",
    "neuron_1 = nmt.swc(swc_path + name_1)\n",
    "neuron_2 = nmt.swc(swc_path + name_2)\n",
    "\n",
    "region_dict_1 = get_node_regions(neuron_1.swc)\n",
    "region_dict_2 = get_node_regions(neuron_2.swc)\n",
    "\n",
    "paths = []\n",
    "for cur_swc, cur_region_dict in zip([neuron_1.swc, neuron_2.swc], [region_dict_1, region_dict_2]):\n",
    "    print(\"# branches: %d\" % len(get_tips(cur_swc)))\n",
    "    for cur_tip in get_tips(cur_swc):\n",
    "        tp = get_path(cur_swc, cur_tip, cur_region_dict, downsample=5)\n",
    "        paths.append(tp)\n",
    "        print(\"path length: %d\" % len(paths[-1]))\n",
    "\n",
    "mscore, seq_1, seq_2 = path_alignment(paths[0], paths[3])\n",
    "# res = path_alignment('TCG', 'AATCG')\n",
    "plt.imshow(mscore, cmap='bwr')\n",
    "assert len(seq_1)==len(seq_2)\n",
    "print(\"Global alignment score: %d\\n\" % mscore[mscore.shape[0]-1, mscore.shape[1]-1])\n",
    "print(\"%s\\t-\\t%s\" % (\"Path_1\", \"Path_2\"))\n",
    "for i in range(len(seq_1)):\n",
    "    if seq_1[i][:5] == seq_2[i][:5]:\n",
    "        sep = '-'\n",
    "    else:\n",
    "        sep = ' '\n",
    "    print(\"%s\\t%s\\t%s\" % (seq_1[i][:5], sep, seq_2[i][:5]))\n",
    "    \n",
    "m = len(paths)\n",
    "pair_scores = np.zeros((m,m))\n",
    "for i in range(0,m):\n",
    "    for j in range(i+1, m):\n",
    "        mscore, _, _ = path_alignment(paths[i], paths[j])\n",
    "        pair_scores[i,j] = mscore[mscore.shape[0]-1, mscore.shape[1]-1]\n",
    "        pair_scores[j,i] = pair_scores[i,j]\n",
    "        \n",
    "sns.heatmap(pair_scores, cmap='bwr', annot=True)"
   ]
  },
  {
   "cell_type": "markdown",
   "metadata": {},
   "source": [
    "# Apply to CLA dataset"
   ]
  },
  {
   "cell_type": "code",
   "execution_count": 46,
   "metadata": {},
   "outputs": [],
   "source": [
    "def standardize_cellid(cell_name):\n",
    "    '''\n",
    "    The name of a cell is of the format:\n",
    "        \"zstart_zend_x_y\"\n",
    "        or\n",
    "        \"z_x_y\"\n",
    "    '''\n",
    "    tp = cell_name.replace(\"-\", \"_\").replace(\"x\", \"X\").replace(\"y\",\"Y\")\n",
    "    tp = tp.split(\"_\")\n",
    "    n_fields = 0\n",
    "    for i,j in enumerate(tp):\n",
    "        if j.startswith(\"X\"):\n",
    "            n_fields = i+2\n",
    "            break\n",
    "    if n_fields == 0:\n",
    "        print(cell_name)\n",
    "        return\n",
    "    tp = cell_name.replace(\"-\", \"_\").replace(\"X\", \"\").replace(\"x\", \"\").replace(\"Y\", \"\").replace(\"y\",\"\")\n",
    "    tp = tp.split(\"_\")[:n_fields]\n",
    "    for i, value in enumerate(tp):\n",
    "        if(len(value)>5):\n",
    "            print(\"Name format error of 'standardize_cellid' \", cell_name)\n",
    "        value = ([\"0\"]*(5-len(value))) + [value]\n",
    "        value = \"\".join(value)\n",
    "        tp[i] = value\n",
    "    if(len(tp)>4):\n",
    "        print(\"Name format error of 'standardize_cellid' \", cell_name)\n",
    "    tp = [tp[0]] * (4 - len(tp)) + tp\n",
    "#     print(tp)\n",
    "    res = tp[0]+\"_\"+tp[1]+\"_X\"+tp[2]+\"_Y\"+tp[3]\n",
    "    return res\n",
    "\n",
    "def standardize_cellid_list(cell_list):\n",
    "    res = []\n",
    "    for i, j in enumerate(cell_list):\n",
    "        tp = j.replace(\"-\", \"_\").replace(\" \", \"_\").replace(\"_Finalized\", \"\").replace(\"_QCed\", \"\").replace(\".swc\", \"\").replace(\".eswc\", \"\").replace(\".ano\", \"\")\n",
    "        brain_id = j.split(\"_\")[0]\n",
    "        cell_id = \"_\".join(tp.split(\"_\")[1:])\n",
    "        cell_id = standardize_cellid(cell_id)\n",
    "        res.append(\"_\".join((brain_id, cell_id)))\n",
    "    return res"
   ]
  },
  {
   "cell_type": "code",
   "execution_count": 48,
   "metadata": {},
   "outputs": [],
   "source": [
    "paths_dict = {}\n",
    "swc_list = [f for f in listdir(swc_path) if f.endswith(\"swc\")][:100]\n",
    "swc_list_standard = standardize_cellid_list(swc_list)\n",
    "for cur_file, cur_name in zip(swc_list, swc_list_standard):\n",
    "    cur_swc = nmt.swc(swc_path + cur_file).swc\n",
    "    cur_region_dict = get_node_regions(cur_swc)\n",
    "    cur_paths = []\n",
    "    for cur_tip in get_tips(cur_swc):\n",
    "        cur_paths.append(get_path(cur_swc, cur_tip, cur_region_dict, downsample=5))\n",
    "    paths_dict[cur_name] = cur_paths\n",
    "    \n",
    "n_neurons = len(paths_dict)"
   ]
  },
  {
   "cell_type": "code",
   "execution_count": 50,
   "metadata": {},
   "outputs": [
    {
     "name": "stdout",
     "output_type": "stream",
     "text": [
      "17781_05655_05655_X10641_Y11102 \n",
      "236174_05338_05437_X13590_Y07348\n"
     ]
    },
    {
     "data": {
      "text/plain": [
       "-17.0"
      ]
     },
     "execution_count": 50,
     "metadata": {},
     "output_type": "execute_result"
    }
   ],
   "source": [
    "def pairwise_similarity(paths1, paths2):\n",
    "    res = -1e20\n",
    "    for p1 in paths1:\n",
    "        for p2 in paths2:\n",
    "            mscore, seq_1, seq_2 = path_alignment(p1, p2)\n",
    "            cur_score = mscore[len(p1), len(p2)]\n",
    "            if res < cur_score:\n",
    "                res = cur_score\n",
    "    return res\n",
    "\n",
    "# Testing\n",
    "print(\"%s \\n%s\" % (swc_list_standard[0], swc_list_standard[1]))\n",
    "pairwise_similarity(paths_dict[swc_list_standard[0]], paths_dict[swc_list_standard[1]])"
   ]
  },
  {
   "cell_type": "code",
   "execution_count": 60,
   "metadata": {},
   "outputs": [
    {
     "data": {
      "text/html": [
       "<div>\n",
       "<style scoped>\n",
       "    .dataframe tbody tr th:only-of-type {\n",
       "        vertical-align: middle;\n",
       "    }\n",
       "\n",
       "    .dataframe tbody tr th {\n",
       "        vertical-align: top;\n",
       "    }\n",
       "\n",
       "    .dataframe thead th {\n",
       "        text-align: right;\n",
       "    }\n",
       "</style>\n",
       "<table border=\"1\" class=\"dataframe\">\n",
       "  <thead>\n",
       "    <tr style=\"text-align: right;\">\n",
       "      <th></th>\n",
       "      <th>Brain_name</th>\n",
       "      <th>Cell_name</th>\n",
       "      <th>Cell_type</th>\n",
       "      <th>Subtype</th>\n",
       "    </tr>\n",
       "  </thead>\n",
       "  <tbody>\n",
       "    <tr>\n",
       "      <th>17781_03668_03668_X17825_Y13313</th>\n",
       "      <td>17781</td>\n",
       "      <td>03668_03668_X17825_Y13313</td>\n",
       "      <td>CLA</td>\n",
       "      <td>CLA_Ia</td>\n",
       "    </tr>\n",
       "    <tr>\n",
       "      <th>17781_04095_04095_X17570_Y12460</th>\n",
       "      <td>17781</td>\n",
       "      <td>04095_04095_X17570_Y12460</td>\n",
       "      <td>CLA</td>\n",
       "      <td>CLA_Ia</td>\n",
       "    </tr>\n",
       "    <tr>\n",
       "      <th>17781_03320_03320_X16423_Y14748</th>\n",
       "      <td>17781</td>\n",
       "      <td>03320_03320_X16423_Y14748</td>\n",
       "      <td>CLA</td>\n",
       "      <td>CLA_Ia</td>\n",
       "    </tr>\n",
       "    <tr>\n",
       "      <th>236174_03215_03215_X11999_Y11133</th>\n",
       "      <td>236174</td>\n",
       "      <td>03215_03215_X11999_Y11133</td>\n",
       "      <td>CLA</td>\n",
       "      <td>CLA_Ia</td>\n",
       "    </tr>\n",
       "    <tr>\n",
       "      <th>236174_03229_03328_X12413_Y11831</th>\n",
       "      <td>236174</td>\n",
       "      <td>03229_03328_X12413_Y11831</td>\n",
       "      <td>CLA</td>\n",
       "      <td>CLA_Ia</td>\n",
       "    </tr>\n",
       "  </tbody>\n",
       "</table>\n",
       "</div>"
      ],
      "text/plain": [
       "                                 Brain_name                  Cell_name  \\\n",
       "17781_03668_03668_X17825_Y13313       17781  03668_03668_X17825_Y13313   \n",
       "17781_04095_04095_X17570_Y12460       17781  04095_04095_X17570_Y12460   \n",
       "17781_03320_03320_X16423_Y14748       17781  03320_03320_X16423_Y14748   \n",
       "236174_03215_03215_X11999_Y11133     236174  03215_03215_X11999_Y11133   \n",
       "236174_03229_03328_X12413_Y11831     236174  03229_03328_X12413_Y11831   \n",
       "\n",
       "                                 Cell_type Subtype  \n",
       "17781_03668_03668_X17825_Y13313        CLA  CLA_Ia  \n",
       "17781_04095_04095_X17570_Y12460        CLA  CLA_Ia  \n",
       "17781_03320_03320_X16423_Y14748        CLA  CLA_Ia  \n",
       "236174_03215_03215_X11999_Y11133       CLA  CLA_Ia  \n",
       "236174_03229_03328_X12413_Y11831       CLA  CLA_Ia  "
      ]
     },
     "execution_count": 60,
     "metadata": {},
     "output_type": "execute_result"
    }
   ],
   "source": [
    "celltypes = pd.read_csv(\"/Users/pengxie/Documents/Research/CLA/data/CCF/CellTypes.csv\", dtype=\"str\")\n",
    "celltypes = celltypes.drop_duplicates()\n",
    "for i in range(len(celltypes)):\n",
    "    cell_id = str(celltypes.iloc[i,1]).strip().replace(\"-\", \"_\").replace(\" \", \"_\").replace(\"_Finalized\", \"\").replace(\"_QCed\", \"\").replace(\".ano\", \"\")\n",
    "    celltypes.iloc[i,1] = standardize_cellid(cell_id)\n",
    "celltypes.index = [str(celltypes.iloc[i,0]) + \"_\" + str(celltypes.iloc[i,1]) for i in range(len(celltypes))]\n",
    "celltypes[\"Subtype\"] = pd.Categorical(celltypes.Cell_type)\n",
    "celltypes[\"Cell_type\"] = pd.Categorical([celltypes.Cell_type[i].split(\"_\")[0] for i in range(len(celltypes))])\n",
    "celltypes.head()"
   ]
  },
  {
   "cell_type": "code",
   "execution_count": 28,
   "metadata": {},
   "outputs": [],
   "source": [
    "similarity_array = np.zeros((n_neurons, n_neurons))\n",
    "for i in range(len(paths_dict)):\n",
    "    for j in range(i+1, len(paths_dict)):\n",
    "        similarity_array[i, j] = pairwise_similarity(paths_dict[swc_list[i]], \n",
    "                                                     paths_dict[swc_list[j]])\n",
    "        similarity_array[j, i] = similarity_array[i, j]"
   ]
  },
  {
   "cell_type": "code",
   "execution_count": 99,
   "metadata": {},
   "outputs": [
    {
     "name": "stdout",
     "output_type": "stream",
     "text": [
      "236174_05338_05437_X13590_Y07348\n",
      "17109_06401_06500_X07641_Y03978\n",
      "17781_05166_05166_X11993_Y10858\n",
      "17781_04874_04874_X11466_Y11924\n",
      "17781_06866_06866_X08954_Y41812\n",
      "236174_07077_07089_X14579_Y30892\n",
      "17781_03668_03668_X09453_Y17266\n",
      "17781_03139_03139_X20033_Y17506\n",
      "17781_04698_04698_X17857_Y11456\n",
      "236174_03893_03908_X17507_Y26071\n",
      "17781_06228_06228_X12697_Y08412\n",
      "17781_05894_05894_X11460_Y10079\n"
     ]
    }
   ],
   "source": [
    "# Get rid of outliers\n",
    "cell_list = []\n",
    "for i,j in enumerate(swc_list_standard):\n",
    "    if np.sort(similarity_array[i,:])[-2]>5:\n",
    "        cell_list.append(j)\n",
    "    else:\n",
    "        print(j)"
   ]
  },
  {
   "cell_type": "code",
   "execution_count": null,
   "metadata": {},
   "outputs": [],
   "source": [
    "similarity_array = np.zeros((len(cell_list), len(cell_list)))\n",
    "for i in range(len(cell_list)):\n",
    "    for j in range(i+1, len(cell_list)):\n",
    "        similarity_array[i, j] = pairwise_similarity(paths_dict[cell_list[i]], \n",
    "                                                     paths_dict[cell_list[j]])\n",
    "        similarity_array[j, i] = similarity_array[i, j]"
   ]
  },
  {
   "cell_type": "code",
   "execution_count": 80,
   "metadata": {},
   "outputs": [],
   "source": [
    "celltype_color_dict = {\"CLA\":\"C0\", \"pc\":\"C1\"}\n",
    "u_subtype = sorted(list(set(celltypes.Subtype.tolist())))\n",
    "subtype_color_dict = dict(zip(u_subtype, [\"C\"+str(i) for i in range(len(u_subtype))]))"
   ]
  },
  {
   "cell_type": "code",
   "execution_count": 103,
   "metadata": {},
   "outputs": [
    {
     "ename": "ValueError",
     "evalue": "Shape of passed values is (100, 100), indices imply (88, 88)",
     "output_type": "error",
     "traceback": [
      "\u001b[0;31m---------------------------------------------------------------------------\u001b[0m",
      "\u001b[0;31mValueError\u001b[0m                                Traceback (most recent call last)",
      "\u001b[0;32m/anaconda3/lib/python3.6/site-packages/pandas/core/internals.py\u001b[0m in \u001b[0;36mcreate_block_manager_from_blocks\u001b[0;34m(blocks, axes)\u001b[0m\n\u001b[1;32m   4621\u001b[0m                 blocks = [make_block(values=blocks[0],\n\u001b[0;32m-> 4622\u001b[0;31m                                      placement=slice(0, len(axes[0])))]\n\u001b[0m\u001b[1;32m   4623\u001b[0m \u001b[0;34m\u001b[0m\u001b[0m\n",
      "\u001b[0;32m/anaconda3/lib/python3.6/site-packages/pandas/core/internals.py\u001b[0m in \u001b[0;36mmake_block\u001b[0;34m(values, placement, klass, ndim, dtype, fastpath)\u001b[0m\n\u001b[1;32m   2956\u001b[0m \u001b[0;34m\u001b[0m\u001b[0m\n\u001b[0;32m-> 2957\u001b[0;31m     \u001b[0;32mreturn\u001b[0m \u001b[0mklass\u001b[0m\u001b[0;34m(\u001b[0m\u001b[0mvalues\u001b[0m\u001b[0;34m,\u001b[0m \u001b[0mndim\u001b[0m\u001b[0;34m=\u001b[0m\u001b[0mndim\u001b[0m\u001b[0;34m,\u001b[0m \u001b[0mfastpath\u001b[0m\u001b[0;34m=\u001b[0m\u001b[0mfastpath\u001b[0m\u001b[0;34m,\u001b[0m \u001b[0mplacement\u001b[0m\u001b[0;34m=\u001b[0m\u001b[0mplacement\u001b[0m\u001b[0;34m)\u001b[0m\u001b[0;34m\u001b[0m\u001b[0m\n\u001b[0m\u001b[1;32m   2958\u001b[0m \u001b[0;34m\u001b[0m\u001b[0m\n",
      "\u001b[0;32m/anaconda3/lib/python3.6/site-packages/pandas/core/internals.py\u001b[0m in \u001b[0;36m__init__\u001b[0;34m(self, values, placement, ndim, fastpath)\u001b[0m\n\u001b[1;32m    119\u001b[0m                              'implies %d' % (len(self.values),\n\u001b[0;32m--> 120\u001b[0;31m                                              len(self.mgr_locs)))\n\u001b[0m\u001b[1;32m    121\u001b[0m \u001b[0;34m\u001b[0m\u001b[0m\n",
      "\u001b[0;31mValueError\u001b[0m: Wrong number of items passed 100, placement implies 88",
      "\nDuring handling of the above exception, another exception occurred:\n",
      "\u001b[0;31mValueError\u001b[0m                                Traceback (most recent call last)",
      "\u001b[0;32m<ipython-input-103-630a7d388d9e>\u001b[0m in \u001b[0;36m<module>\u001b[0;34m()\u001b[0m\n\u001b[0;32m----> 1\u001b[0;31m _ = sns.clustermap(pd.DataFrame(similarity_array, columns=cell_list, index=cell_list), \n\u001b[0m\u001b[1;32m      2\u001b[0m                    \u001b[0mcol_colors\u001b[0m\u001b[0;34m=\u001b[0m\u001b[0;34m[\u001b[0m\u001b[0mcelltype_color_dict\u001b[0m\u001b[0;34m[\u001b[0m\u001b[0mcelltypes\u001b[0m\u001b[0;34m.\u001b[0m\u001b[0mloc\u001b[0m\u001b[0;34m[\u001b[0m\u001b[0mi\u001b[0m\u001b[0;34m,\u001b[0m \u001b[0;34m\"Cell_type\"\u001b[0m\u001b[0;34m]\u001b[0m\u001b[0;34m]\u001b[0m \u001b[0;32mfor\u001b[0m \u001b[0mi\u001b[0m \u001b[0;32min\u001b[0m \u001b[0mcell_list\u001b[0m\u001b[0;34m]\u001b[0m\u001b[0;34m,\u001b[0m\u001b[0;34m\u001b[0m\u001b[0m\n\u001b[1;32m      3\u001b[0m                    cmap='bwr', annot=False)\n",
      "\u001b[0;32m/anaconda3/lib/python3.6/site-packages/pandas/core/frame.py\u001b[0m in \u001b[0;36m__init__\u001b[0;34m(self, data, index, columns, dtype, copy)\u001b[0m\n\u001b[1;32m    359\u001b[0m             \u001b[0;32melse\u001b[0m\u001b[0;34m:\u001b[0m\u001b[0;34m\u001b[0m\u001b[0m\n\u001b[1;32m    360\u001b[0m                 mgr = self._init_ndarray(data, index, columns, dtype=dtype,\n\u001b[0;32m--> 361\u001b[0;31m                                          copy=copy)\n\u001b[0m\u001b[1;32m    362\u001b[0m         \u001b[0;32melif\u001b[0m \u001b[0misinstance\u001b[0m\u001b[0;34m(\u001b[0m\u001b[0mdata\u001b[0m\u001b[0;34m,\u001b[0m \u001b[0;34m(\u001b[0m\u001b[0mlist\u001b[0m\u001b[0;34m,\u001b[0m \u001b[0mtypes\u001b[0m\u001b[0;34m.\u001b[0m\u001b[0mGeneratorType\u001b[0m\u001b[0;34m)\u001b[0m\u001b[0;34m)\u001b[0m\u001b[0;34m:\u001b[0m\u001b[0;34m\u001b[0m\u001b[0m\n\u001b[1;32m    363\u001b[0m             \u001b[0;32mif\u001b[0m \u001b[0misinstance\u001b[0m\u001b[0;34m(\u001b[0m\u001b[0mdata\u001b[0m\u001b[0;34m,\u001b[0m \u001b[0mtypes\u001b[0m\u001b[0;34m.\u001b[0m\u001b[0mGeneratorType\u001b[0m\u001b[0;34m)\u001b[0m\u001b[0;34m:\u001b[0m\u001b[0;34m\u001b[0m\u001b[0m\n",
      "\u001b[0;32m/anaconda3/lib/python3.6/site-packages/pandas/core/frame.py\u001b[0m in \u001b[0;36m_init_ndarray\u001b[0;34m(self, values, index, columns, dtype, copy)\u001b[0m\n\u001b[1;32m    531\u001b[0m             \u001b[0mvalues\u001b[0m \u001b[0;34m=\u001b[0m \u001b[0mmaybe_infer_to_datetimelike\u001b[0m\u001b[0;34m(\u001b[0m\u001b[0mvalues\u001b[0m\u001b[0;34m)\u001b[0m\u001b[0;34m\u001b[0m\u001b[0m\n\u001b[1;32m    532\u001b[0m \u001b[0;34m\u001b[0m\u001b[0m\n\u001b[0;32m--> 533\u001b[0;31m         \u001b[0;32mreturn\u001b[0m \u001b[0mcreate_block_manager_from_blocks\u001b[0m\u001b[0;34m(\u001b[0m\u001b[0;34m[\u001b[0m\u001b[0mvalues\u001b[0m\u001b[0;34m]\u001b[0m\u001b[0;34m,\u001b[0m \u001b[0;34m[\u001b[0m\u001b[0mcolumns\u001b[0m\u001b[0;34m,\u001b[0m \u001b[0mindex\u001b[0m\u001b[0;34m]\u001b[0m\u001b[0;34m)\u001b[0m\u001b[0;34m\u001b[0m\u001b[0m\n\u001b[0m\u001b[1;32m    534\u001b[0m \u001b[0;34m\u001b[0m\u001b[0m\n\u001b[1;32m    535\u001b[0m     \u001b[0;34m@\u001b[0m\u001b[0mproperty\u001b[0m\u001b[0;34m\u001b[0m\u001b[0m\n",
      "\u001b[0;32m/anaconda3/lib/python3.6/site-packages/pandas/core/internals.py\u001b[0m in \u001b[0;36mcreate_block_manager_from_blocks\u001b[0;34m(blocks, axes)\u001b[0m\n\u001b[1;32m   4629\u001b[0m         \u001b[0mblocks\u001b[0m \u001b[0;34m=\u001b[0m \u001b[0;34m[\u001b[0m\u001b[0mgetattr\u001b[0m\u001b[0;34m(\u001b[0m\u001b[0mb\u001b[0m\u001b[0;34m,\u001b[0m \u001b[0;34m'values'\u001b[0m\u001b[0;34m,\u001b[0m \u001b[0mb\u001b[0m\u001b[0;34m)\u001b[0m \u001b[0;32mfor\u001b[0m \u001b[0mb\u001b[0m \u001b[0;32min\u001b[0m \u001b[0mblocks\u001b[0m\u001b[0;34m]\u001b[0m\u001b[0;34m\u001b[0m\u001b[0m\n\u001b[1;32m   4630\u001b[0m         \u001b[0mtot_items\u001b[0m \u001b[0;34m=\u001b[0m \u001b[0msum\u001b[0m\u001b[0;34m(\u001b[0m\u001b[0mb\u001b[0m\u001b[0;34m.\u001b[0m\u001b[0mshape\u001b[0m\u001b[0;34m[\u001b[0m\u001b[0;36m0\u001b[0m\u001b[0;34m]\u001b[0m \u001b[0;32mfor\u001b[0m \u001b[0mb\u001b[0m \u001b[0;32min\u001b[0m \u001b[0mblocks\u001b[0m\u001b[0;34m)\u001b[0m\u001b[0;34m\u001b[0m\u001b[0m\n\u001b[0;32m-> 4631\u001b[0;31m         \u001b[0mconstruction_error\u001b[0m\u001b[0;34m(\u001b[0m\u001b[0mtot_items\u001b[0m\u001b[0;34m,\u001b[0m \u001b[0mblocks\u001b[0m\u001b[0;34m[\u001b[0m\u001b[0;36m0\u001b[0m\u001b[0;34m]\u001b[0m\u001b[0;34m.\u001b[0m\u001b[0mshape\u001b[0m\u001b[0;34m[\u001b[0m\u001b[0;36m1\u001b[0m\u001b[0;34m:\u001b[0m\u001b[0;34m]\u001b[0m\u001b[0;34m,\u001b[0m \u001b[0maxes\u001b[0m\u001b[0;34m,\u001b[0m \u001b[0me\u001b[0m\u001b[0;34m)\u001b[0m\u001b[0;34m\u001b[0m\u001b[0m\n\u001b[0m\u001b[1;32m   4632\u001b[0m \u001b[0;34m\u001b[0m\u001b[0m\n\u001b[1;32m   4633\u001b[0m \u001b[0;34m\u001b[0m\u001b[0m\n",
      "\u001b[0;32m/anaconda3/lib/python3.6/site-packages/pandas/core/internals.py\u001b[0m in \u001b[0;36mconstruction_error\u001b[0;34m(tot_items, block_shape, axes, e)\u001b[0m\n\u001b[1;32m   4606\u001b[0m         \u001b[0;32mraise\u001b[0m \u001b[0mValueError\u001b[0m\u001b[0;34m(\u001b[0m\u001b[0;34m\"Empty data passed with indices specified.\"\u001b[0m\u001b[0;34m)\u001b[0m\u001b[0;34m\u001b[0m\u001b[0m\n\u001b[1;32m   4607\u001b[0m     raise ValueError(\"Shape of passed values is {0}, indices imply {1}\".format(\n\u001b[0;32m-> 4608\u001b[0;31m         passed, implied))\n\u001b[0m\u001b[1;32m   4609\u001b[0m \u001b[0;34m\u001b[0m\u001b[0m\n\u001b[1;32m   4610\u001b[0m \u001b[0;34m\u001b[0m\u001b[0m\n",
      "\u001b[0;31mValueError\u001b[0m: Shape of passed values is (100, 100), indices imply (88, 88)"
     ]
    }
   ],
   "source": [
    "_ = sns.clustermap(pd.DataFrame(similarity_array, columns=cell_list, index=cell_list), \n",
    "                   col_colors=[celltype_color_dict[celltypes.loc[i, \"Cell_type\"]] for i in cell_list],\n",
    "                   cmap='bwr', annot=False)"
   ]
  },
  {
   "cell_type": "code",
   "execution_count": 93,
   "metadata": {},
   "outputs": [],
   "source": [
    "from sklearn.cluster import KMeans\n",
    "from sklearn.manifold import TSNE\n",
    "\n",
    "kmeans = KMeans(n_clusters=10, random_state=0).fit(similarity_array)\n",
    "\n",
    "Z = TSNE(n_components=2, perplexity=8).fit_transform(similarity_array)"
   ]
  },
  {
   "cell_type": "code",
   "execution_count": 92,
   "metadata": {},
   "outputs": [
    {
     "data": {
      "text/plain": [
       "<matplotlib.collections.PathCollection at 0x1b4e719978>"
      ]
     },
     "execution_count": 92,
     "metadata": {},
     "output_type": "execute_result"
    },
    {
     "data": {
      "image/png": "[encoded data removed]",
      "text/plain": [
       "<matplotlib.figure.Figure at 0x1b4e719710>"
      ]
     },
     "metadata": {},
     "output_type": "display_data"
    }
   ],
   "source": [
    "fig, ax = plt.subplots(1,3, figsize=(18,6))\n",
    "ax[1].scatter(Z[:,0], Z[:,1], \n",
    "            c=[subtype_color_dict[celltypes.loc[i, \"Subtype\"]] for i in swc_list_standard]\n",
    "           )\n",
    "ax[0].scatter(Z[:,0], Z[:,1], \n",
    "            c=[celltype_color_dict[celltypes.loc[i, \"Cell_type\"]] for i in swc_list_standard]\n",
    "           )\n",
    "ax[2].scatter(Z[:,0], Z[:,1], c=kmeans.labels_)"
   ]
  }
 ],
 "metadata": {
  "kernelspec": {
   "display_name": "Python 3",
   "language": "python",
   "name": "python3"
  },
  "language_info": {
   "codemirror_mode": {
    "name": "ipython",
    "version": 3
   },
   "file_extension": ".py",
   "mimetype": "text/x-python",
   "name": "python",
   "nbconvert_exporter": "python",
   "pygments_lexer": "ipython3",
   "version": "3.6.4"
  }
 },
 "nbformat": 4,
 "nbformat_minor": 2
}
